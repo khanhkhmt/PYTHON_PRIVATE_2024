{
 "cells": [
  {
   "cell_type": "markdown",
   "metadata": {},
   "source": [
    "# 1 :\n",
    "# python có thể làm đc :\n",
    "# phát triển web \n",
    "# phân tích xử lý dữ liệu\n",
    "# trí tuệ nhân tạo và học máy\n",
    "# phát triển game \n",
    "# iot\n",
    "'''\n",
    "b2. so sánh đặc điểm giữa python và c++ :\n",
    "1 cú pháp :\n",
    "python : đơn giản , rõ ràng và dễ học\n",
    "c++ : phức tạp hơn\n",
    "2 hiệu suất :\n",
    "python : là ngôn ngữ thông dịch , nên tốc độ chạy thg chậm hơn c++\n",
    "c++ : là ngôn ngữ biên dịch  , hiệu suất cao\n",
    "3 ứng dụng :\n",
    "python : thường đc sử dụng trong các lĩnh vực như phát triển web, tự động hóa, phân tích dữ liệu, trí tuệ nhân tạo và học máy, và xử lý văn bản\n",
    "c++ : Thường được dùng trong phát triển phần mềm hệ thống, các ứng dụng yêu cầu hiệu năng cao như trò chơi, phần mềm nhúng, đồ họa 3D, và các hệ điều hành\n",
    "b3 : \n",
    "python là ngôn ngữ thông dịch\n",
    "vì :\n",
    "thực thi mã theo từng dòng\n",
    "ko cần biên dịch trc\n",
    "mã python có tính linh hoạt cao\n",
    "'''"
   ]
  },
  {
   "cell_type": "code",
   "execution_count": 7,
   "metadata": {},
   "outputs": [
    {
     "name": "stdout",
     "output_type": "stream",
     "text": [
      "5\n",
      "5.6\n",
      "python hit 2024\n",
      "5\n",
      "5.5\n",
      "k\n"
     ]
    }
   ],
   "source": [
    "# cách khai báo biến \n",
    "a = 5 \n",
    "print (a)\n",
    "b = 5.6\n",
    "print (b)\n",
    "c = 'python hit 2024'\n",
    "print (c)\n",
    "d = int (input(\"nhập d: \"))\n",
    "print(d)\n",
    "e = float(input())\n",
    "print (e)\n",
    "f = input() \n",
    "print (f) "
   ]
  },
  {
   "cell_type": "code",
   "execution_count": 8,
   "metadata": {},
   "outputs": [
    {
     "name": "stdout",
     "output_type": "stream",
     "text": [
      "13\n",
      "-3\n",
      "40\n",
      "0.625\n",
      "0\n",
      "5\n",
      "390625\n"
     ]
    }
   ],
   "source": [
    "# toán tử số học : + , - , * , / , // , % , **\n",
    "a = int (input())\n",
    "b = int(input()) \n",
    "print (a +b) \n",
    "print (a-b)\n",
    "print (a*b) \n",
    "print (a/b) \n",
    "print (a // b) \n",
    "print (a % b)\n",
    "print (a ** b)\n"
   ]
  },
  {
   "cell_type": "code",
   "execution_count": 9,
   "metadata": {},
   "outputs": [
    {
     "name": "stdout",
     "output_type": "stream",
     "text": [
      "True\n"
     ]
    }
   ],
   "source": [
    "# toán tử so sánh : == , != , > , < , >= , <= \n",
    "if 8 > 3 : print (True)\n",
    "else : print (False) "
   ]
  },
  {
   "cell_type": "code",
   "execution_count": null,
   "metadata": {},
   "outputs": [],
   "source": [
    "# toán tử gán : = , += , -= , *= , /= , //= , %= , **=\n",
    "a = 5 "
   ]
  },
  {
   "cell_type": "code",
   "execution_count": null,
   "metadata": {},
   "outputs": [],
   "source": [
    "# toán tử logic : and , or , not\n",
    "a = int(input())\n",
    "b= int(input())\n",
    "if (a >= 0 and b >= 0) : print (a+b)\n",
    "else : print (a-b) "
   ]
  },
  {
   "cell_type": "code",
   "execution_count": 10,
   "metadata": {},
   "outputs": [
    {
     "name": "stdout",
     "output_type": "stream",
     "text": [
      "6\n"
     ]
    }
   ],
   "source": [
    "# toán tử bitwise : &(and) , `(or) , ^ (xor) , ~ , << , >> \n",
    "print (5 ^ 3) "
   ]
  },
  {
   "cell_type": "code",
   "execution_count": 11,
   "metadata": {},
   "outputs": [
    {
     "name": "stdout",
     "output_type": "stream",
     "text": [
      "True\n"
     ]
    }
   ],
   "source": [
    "# toán tử thành viên : in , not in \n",
    "if ('a' in 'dsadff') : print (True)"
   ]
  },
  {
   "cell_type": "code",
   "execution_count": 12,
   "metadata": {},
   "outputs": [
    {
     "name": "stdout",
     "output_type": "stream",
     "text": [
      "140703517329976\n"
     ]
    }
   ],
   "source": [
    "# toán tử danh tính : is , is not\n",
    "# vd x is y : nếu x , y cùng trỏ tới 1 đối tượng\n",
    "x = 5 \n",
    "y = 5\n",
    "if (x is y) : print (id(x))"
   ]
  },
  {
   "cell_type": "code",
   "execution_count": 15,
   "metadata": {},
   "outputs": [
    {
     "name": "stdout",
     "output_type": "stream",
     "text": [
      "khánh\n",
      "{1, 2, 3, 5}\n",
      "{'a': 1, 'b': 2}\n"
     ]
    }
   ],
   "source": [
    "# kiểu số : int , float , complex\n",
    "x = 10 \n",
    "y = 9.5\n",
    "z = 5 + 3j\n",
    "# kiểu chuỗi \n",
    "ten = 'khánh'\n",
    "print (ten)\n",
    "# kiểu bool : True , False\n",
    "# kiểu list \n",
    "l = [1 , 2 , 3 , 5 ,9 , 1000000] \n",
    "# kiểu tuple (immutable)\n",
    "t = (1 , 90 , 20)\n",
    "# kiểu set (tập giá trị ko trùng lặp)\n",
    "s = {1 , 2 , 2 , 3 , 5}\n",
    "print(s)\n",
    "# kiểu dictionary \n",
    "dict1 = {'a' : 1 , 'b' : 2}\n",
    "print (dict1)"
   ]
  }
 ],
 "metadata": {
  "kernelspec": {
   "display_name": "Python 3",
   "language": "python",
   "name": "python3"
  },
  "language_info": {
   "codemirror_mode": {
    "name": "ipython",
    "version": 3
   },
   "file_extension": ".py",
   "mimetype": "text/x-python",
   "name": "python",
   "nbconvert_exporter": "python",
   "pygments_lexer": "ipython3",
   "version": "3.12.2"
  }
 },
 "nbformat": 4,
 "nbformat_minor": 2
}
